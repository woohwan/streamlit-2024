{
 "cells": [
  {
   "cell_type": "code",
   "execution_count": 1,
   "metadata": {},
   "outputs": [],
   "source": [
    "import sys\n",
    "sys.path.append(\"../apis\")"
   ]
  },
  {
   "cell_type": "code",
   "execution_count": 2,
   "metadata": {},
   "outputs": [
    {
     "name": "stdout",
     "output_type": "stream",
     "text": [
      "Based on our previous conversation, the resource usage for September 2023 is 213.55291725389998 dollars.\n"
     ]
    }
   ],
   "source": [
    "from bedrock_agent2 import BedRockClient\n",
    "\n",
    "agentId = \"MARTXEGJPP\"\n",
    "agentAliasId='UUHTRMUTE6'\n",
    "sessionId  = \"fitcloud\"         # 임의로 정함\n",
    "\n",
    "token = '8DBE92A1F3C1AB4AABCD324756B43C80'\n",
    "accountId = '532805286864'\n",
    "\n",
    "prompt = \"2023년 9월 자원 사용량은?\"\n",
    "\n",
    "bedrock_agent = BedRockClient()\n",
    "\n",
    "sessionState = {\n",
    "    'sessionAttributes': {\n",
    "        'token': token,\n",
    "        'accountId': accountId,\n",
    "    },\n",
    "}\n",
    "\n",
    "resp, _ = bedrock_agent.invoke_bedrock_agent(\n",
    "    session_state=sessionState,\n",
    "    agent_id = agentId,\n",
    "    agent_alias_id=agentAliasId,\n",
    "    session_id='fitcloud',\n",
    "    prompt=prompt\n",
    ")\n",
    "print(resp)"
   ]
  },
  {
   "cell_type": "code",
   "execution_count": null,
   "metadata": {},
   "outputs": [],
   "source": []
  }
 ],
 "metadata": {
  "kernelspec": {
   "display_name": "dev",
   "language": "python",
   "name": "python3"
  },
  "language_info": {
   "codemirror_mode": {
    "name": "ipython",
    "version": 3
   },
   "file_extension": ".py",
   "mimetype": "text/x-python",
   "name": "python",
   "nbconvert_exporter": "python",
   "pygments_lexer": "ipython3",
   "version": "3.12.1"
  }
 },
 "nbformat": 4,
 "nbformat_minor": 2
}
