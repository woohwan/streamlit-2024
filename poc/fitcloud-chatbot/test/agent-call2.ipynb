{
 "cells": [
  {
   "cell_type": "code",
   "execution_count": 1,
   "metadata": {},
   "outputs": [],
   "source": [
    "import sys\n",
    "sys.path.append(\"../apis\")"
   ]
  },
  {
   "cell_type": "code",
   "execution_count": 2,
   "metadata": {},
   "outputs": [
    {
     "name": "stdout",
     "output_type": "stream",
     "text": [
      "An error occurred (dependencyFailedException) when calling the InvokeAgent operation: Your request couldn't be completed. Lambda function arn:aws:lambda:us-east-1:532805286864:function:fitcloud-lambda encountered a problem while processing request.The error message from the Lambda function is Unhandled. Check the Lambda function log for error details, then try your request again after fixing the error.\n",
      "\n"
     ]
    }
   ],
   "source": [
    "from bedrock_agent import BedRockClient\n",
    "\n",
    "agentId = \"MARTXEGJPP\"\n",
    "agentAliasId='ZUGLVYFIQH'\n",
    "sessionId  = \"fitcloud\"         # 임의로 정함\n",
    "prompt = \"token 값은 '00CCB9DD31EFA9D61967D1F9B33B322C'입니다. account id 532805286864의 2023년 9월 자원 사용량은?\"\n",
    "\n",
    "bedrock_agent = BedRockClient()\n",
    "\n",
    "resp, _ = bedrock_agent.invoke_bedrock_agent(\n",
    "    agent_id = agentId,\n",
    "    agent_alias_id=agentAliasId,\n",
    "    session_id='fitcloud',\n",
    "    prompt=prompt\n",
    ")\n",
    "print(resp)"
   ]
  },
  {
   "cell_type": "code",
   "execution_count": null,
   "metadata": {},
   "outputs": [],
   "source": []
  }
 ],
 "metadata": {
  "kernelspec": {
   "display_name": "dev",
   "language": "python",
   "name": "python3"
  },
  "language_info": {
   "codemirror_mode": {
    "name": "ipython",
    "version": 3
   },
   "file_extension": ".py",
   "mimetype": "text/x-python",
   "name": "python",
   "nbconvert_exporter": "python",
   "pygments_lexer": "ipython3",
   "version": "3.11.3"
  }
 },
 "nbformat": 4,
 "nbformat_minor": 2
}
