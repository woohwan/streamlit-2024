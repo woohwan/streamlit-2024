{
 "cells": [
  {
   "cell_type": "code",
   "execution_count": 2,
   "metadata": {},
   "outputs": [],
   "source": [
    "import sys\n",
    "sys.path.append(\"../apis\")"
   ]
  },
  {
   "cell_type": "code",
   "execution_count": 3,
   "metadata": {},
   "outputs": [
    {
     "name": "stdout",
     "output_type": "stream",
     "text": [
      "532805286864 계정의 2023년 9월 자원 사용량은 $213.55291725389998 입니다.\n"
     ]
    }
   ],
   "source": [
    "from bedrock_agent import BedRockClient\n",
    "\n",
    "agentId = \"MARTXEGJPP\"\n",
    "agentAliasId='ZUGLVYFIQH'\n",
    "sessionId  = \"fitcloud\"         # 임의로 정함\n",
    "prompt = \"token 값은 '0F3916A89EBB7EDAD95C4515A0322EC0'입니다. account id 532805286864의 2023년 9월 자원 사용량은?\"\n",
    "\n",
    "bedrock_agent = BedRockClient()\n",
    "\n",
    "resp, _ = bedrock_agent.invoke_bedrock_agent(\n",
    "    agent_id = agentId,\n",
    "    agent_alias_id=agentAliasId,\n",
    "    session_id='fitcloud',\n",
    "    prompt=prompt\n",
    ")\n",
    "print(resp)"
   ]
  },
  {
   "cell_type": "code",
   "execution_count": null,
   "metadata": {},
   "outputs": [],
   "source": []
  }
 ],
 "metadata": {
  "kernelspec": {
   "display_name": "dev",
   "language": "python",
   "name": "python3"
  },
  "language_info": {
   "codemirror_mode": {
    "name": "ipython",
    "version": 3
   },
   "file_extension": ".py",
   "mimetype": "text/x-python",
   "name": "python",
   "nbconvert_exporter": "python",
   "pygments_lexer": "ipython3",
   "version": "3.12.1"
  }
 },
 "nbformat": 4,
 "nbformat_minor": 2
}
