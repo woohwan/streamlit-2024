{
 "cells": [
  {
   "cell_type": "code",
   "execution_count": 2,
   "metadata": {},
   "outputs": [],
   "source": [
    "import sys\n",
    "sys.path.append(\"../apis\")"
   ]
  },
  {
   "cell_type": "code",
   "execution_count": 3,
   "metadata": {},
   "outputs": [
    {
     "ename": "TypeError",
     "evalue": "BedRockClient.invoke_bedrock_agent() got an unexpected keyword argument 'sessionState'",
     "output_type": "error",
     "traceback": [
      "\u001b[0;31m---------------------------------------------------------------------------\u001b[0m",
      "\u001b[0;31mTypeError\u001b[0m                                 Traceback (most recent call last)",
      "Cell \u001b[0;32mIn[3], line 10\u001b[0m\n\u001b[1;32m      6\u001b[0m prompt \u001b[38;5;241m=\u001b[39m \u001b[38;5;124m\"\u001b[39m\u001b[38;5;124mtoken 값은 \u001b[39m\u001b[38;5;124m'\u001b[39m\u001b[38;5;124m00CCB9DD31EFA9D61967D1F9B33B322C\u001b[39m\u001b[38;5;124m'\u001b[39m\u001b[38;5;124m입니다. account id 532805286864의 2023년 9월 자원 사용량은?\u001b[39m\u001b[38;5;124m\"\u001b[39m\n\u001b[1;32m      8\u001b[0m bedrock_agent \u001b[38;5;241m=\u001b[39m BedRockClient()\n\u001b[0;32m---> 10\u001b[0m resp, _ \u001b[38;5;241m=\u001b[39m \u001b[43mbedrock_agent\u001b[49m\u001b[38;5;241;43m.\u001b[39;49m\u001b[43minvoke_bedrock_agent\u001b[49m\u001b[43m(\u001b[49m\n\u001b[1;32m     11\u001b[0m \u001b[43m    \u001b[49m\u001b[43msessionState\u001b[49m\u001b[43m \u001b[49m\u001b[38;5;241;43m=\u001b[39;49m\u001b[43m \u001b[49m\u001b[43m{\u001b[49m\n\u001b[1;32m     12\u001b[0m \u001b[43m        \u001b[49m\u001b[38;5;124;43m'\u001b[39;49m\u001b[38;5;124;43msessionAttributes\u001b[39;49m\u001b[38;5;124;43m'\u001b[39;49m\u001b[43m:\u001b[49m\u001b[43m \u001b[49m\u001b[43m{\u001b[49m\n\u001b[1;32m     13\u001b[0m \u001b[43m            \u001b[49m\u001b[38;5;124;43m\"\u001b[39;49m\u001b[38;5;124;43mtoken\u001b[39;49m\u001b[38;5;124;43m\"\u001b[39;49m\u001b[43m:\u001b[49m\u001b[43m \u001b[49m\u001b[38;5;124;43m'\u001b[39;49m\u001b[38;5;124;43m00CCB9DD31EFA9D61967D1F9B33B322C\u001b[39;49m\u001b[38;5;124;43m'\u001b[39;49m\n\u001b[1;32m     14\u001b[0m \u001b[43m        \u001b[49m\u001b[43m}\u001b[49m\u001b[43m,\u001b[49m\n\u001b[1;32m     15\u001b[0m \u001b[43m    \u001b[49m\u001b[43m}\u001b[49m\u001b[43m,\u001b[49m\n\u001b[1;32m     16\u001b[0m \u001b[43m    \u001b[49m\u001b[43magent_id\u001b[49m\u001b[43m \u001b[49m\u001b[38;5;241;43m=\u001b[39;49m\u001b[43m \u001b[49m\u001b[43magentId\u001b[49m\u001b[43m,\u001b[49m\n\u001b[1;32m     17\u001b[0m \u001b[43m    \u001b[49m\u001b[43magent_alias_id\u001b[49m\u001b[38;5;241;43m=\u001b[39;49m\u001b[43magentAliasId\u001b[49m\u001b[43m,\u001b[49m\n\u001b[1;32m     18\u001b[0m \u001b[43m    \u001b[49m\u001b[43msession_id\u001b[49m\u001b[38;5;241;43m=\u001b[39;49m\u001b[38;5;124;43m'\u001b[39;49m\u001b[38;5;124;43mfitcloud\u001b[39;49m\u001b[38;5;124;43m'\u001b[39;49m\u001b[43m,\u001b[49m\n\u001b[1;32m     19\u001b[0m \u001b[43m    \u001b[49m\u001b[43mprompt\u001b[49m\u001b[38;5;241;43m=\u001b[39;49m\u001b[43mprompt\u001b[49m\n\u001b[1;32m     20\u001b[0m \u001b[43m)\u001b[49m\n\u001b[1;32m     21\u001b[0m \u001b[38;5;28mprint\u001b[39m(resp)\n",
      "\u001b[0;31mTypeError\u001b[0m: BedRockClient.invoke_bedrock_agent() got an unexpected keyword argument 'sessionState'"
     ]
    }
   ],
   "source": [
    "from bedrock_agent import BedRockClient\n",
    "\n",
    "agentId = \"MARTXEGJPP\"\n",
    "agentAliasId='ZUGLVYFIQH'\n",
    "sessionId  = \"fitcloud\"         # 임의로 정함\n",
    "prompt = \"token 값은 '00CCB9DD31EFA9D61967D1F9B33B322C'입니다. account id 532805286864의 2023년 9월 자원 사용량은?\"\n",
    "\n",
    "bedrock_agent = BedRockClient()\n",
    "\n",
    "resp, _ = bedrock_agent.invoke_bedrock_agent(\n",
    "    agent_id = agentId,\n",
    "    agent_alias_id=agentAliasId,\n",
    "    session_id='fitcloud',\n",
    "    prompt=prompt\n",
    ")\n",
    "print(resp)"
   ]
  },
  {
   "cell_type": "code",
   "execution_count": null,
   "metadata": {},
   "outputs": [],
   "source": []
  }
 ],
 "metadata": {
  "kernelspec": {
   "display_name": "dev",
   "language": "python",
   "name": "python3"
  },
  "language_info": {
   "codemirror_mode": {
    "name": "ipython",
    "version": 3
   },
   "file_extension": ".py",
   "mimetype": "text/x-python",
   "name": "python",
   "nbconvert_exporter": "python",
   "pygments_lexer": "ipython3",
   "version": "3.12.1"
  }
 },
 "nbformat": 4,
 "nbformat_minor": 2
}
