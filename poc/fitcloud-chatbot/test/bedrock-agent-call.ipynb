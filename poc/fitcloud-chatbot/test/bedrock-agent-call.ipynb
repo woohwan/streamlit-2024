{
 "cells": [
  {
   "cell_type": "code",
   "execution_count": 33,
   "metadata": {},
   "outputs": [],
   "source": [
    "import boto3\n",
    "import uuid\n",
    "\n",
    "session = boto3.session.Session(region_name='us-east-1')\n",
    "br_agnet_client = session.client(\n",
    "    service_name='bedrock-agent-runtime'\n",
    ")\n",
    "# session_id = str(uuid.uuid4()).split('-')[-1]\n",
    "# print(session_id)\n",
    "token = '8DBE92A1F3C1AB4AABCD324756B43C80'\n",
    "accountId = '532805286864'\n",
    "\n",
    "agentId = \"IUFLFZG1TW\"\n",
    "agentAliasId='GDOGYNUEF9'\n",
    "sessionId  = \"fitcloud\"         # 임의로 정함\n",
    "# prompt = \"token 값은 '00CCB9DD31EFA9D61967D1F9B33B322C'입니다. account id 532805286864의 2023년 9월 자원 사용량은?\"\n",
    "prompt = \"2023년 9월 자원 사용량은?\"\n"
   ]
  },
  {
   "cell_type": "code",
   "execution_count": 34,
   "metadata": {},
   "outputs": [
    {
     "data": {
      "text/plain": [
       "{'ResponseMetadata': {'RequestId': '14ad0b9e-04a2-4317-83fc-00368a1bd41f',\n",
       "  'HTTPStatusCode': 200,\n",
       "  'HTTPHeaders': {'date': 'Mon, 19 Feb 2024 08:35:28 GMT',\n",
       "   'content-type': 'application/json',\n",
       "   'transfer-encoding': 'chunked',\n",
       "   'connection': 'keep-alive',\n",
       "   'x-amzn-requestid': '14ad0b9e-04a2-4317-83fc-00368a1bd41f',\n",
       "   'x-amz-bedrock-agent-session-id': 'fitcloud',\n",
       "   'x-amzn-bedrock-agent-content-type': 'application/json'},\n",
       "  'RetryAttempts': 0},\n",
       " 'contentType': 'application/json',\n",
       " 'sessionId': 'fitcloud',\n",
       " 'completion': <botocore.eventstream.EventStream at 0x7f3503163cd0>}"
      ]
     },
     "execution_count": 34,
     "metadata": {},
     "output_type": "execute_result"
    }
   ],
   "source": [
    "resp = br_agnet_client.invoke_agent(\n",
    "    sessionState = {\n",
    "        'sessionAttributes': {\n",
    "            \"token\": token,\n",
    "            \"accountId\": accountId,\n",
    "        },\n",
    "    },\n",
    "    agentId=agentId,\n",
    "    agentAliasId=agentAliasId,\n",
    "    sessionId=sessionId, \n",
    "    inputText=prompt  )\n",
    "resp"
   ]
  },
  {
   "cell_type": "code",
   "execution_count": 35,
   "metadata": {},
   "outputs": [
    {
     "name": "stdout",
     "output_type": "stream",
     "text": [
      "{'ResponseMetadata': {'RequestId': '14ad0b9e-04a2-4317-83fc-00368a1bd41f', 'HTTPStatusCode': 200, 'HTTPHeaders': {'date': 'Mon, 19 Feb 2024 08:35:28 GMT', 'content-type': 'application/json', 'transfer-encoding': 'chunked', 'connection': 'keep-alive', 'x-amzn-requestid': '14ad0b9e-04a2-4317-83fc-00368a1bd41f', 'x-amz-bedrock-agent-session-id': 'fitcloud', 'x-amzn-bedrock-agent-content-type': 'application/json'}, 'RetryAttempts': 0}, 'contentType': 'application/json', 'sessionId': 'fitcloud', 'completion': <botocore.eventstream.EventStream object at 0x7f3503163cd0>}\n"
     ]
    }
   ],
   "source": [
    "print(resp)"
   ]
  },
  {
   "cell_type": "code",
   "execution_count": 36,
   "metadata": {},
   "outputs": [
    {
     "name": "stdout",
     "output_type": "stream",
     "text": [
      "2023년 9월 자원 사용량은 $213.55입니다.\n"
     ]
    }
   ],
   "source": [
    "\n",
    "completion = \"\"\n",
    "for event in resp.get('completion'):\n",
    "    # print(event)\n",
    "    chunk = event['chunk']\n",
    "    completion = completion + chunk['bytes'].decode()\n",
    "print(completion)"
   ]
  },
  {
   "cell_type": "code",
   "execution_count": null,
   "metadata": {},
   "outputs": [],
   "source": []
  }
 ],
 "metadata": {
  "kernelspec": {
   "display_name": "dev",
   "language": "python",
   "name": "python3"
  },
  "language_info": {
   "codemirror_mode": {
    "name": "ipython",
    "version": 3
   },
   "file_extension": ".py",
   "mimetype": "text/x-python",
   "name": "python",
   "nbconvert_exporter": "python",
   "pygments_lexer": "ipython3",
   "version": "3.11.3"
  }
 },
 "nbformat": 4,
 "nbformat_minor": 2
}
