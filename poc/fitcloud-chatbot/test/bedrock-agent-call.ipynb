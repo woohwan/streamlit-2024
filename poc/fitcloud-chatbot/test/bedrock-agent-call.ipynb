{
 "cells": [
  {
   "cell_type": "code",
   "execution_count": 11,
   "metadata": {},
   "outputs": [],
   "source": [
    "import boto3\n",
    "import uuid\n",
    "\n",
    "session = boto3.session.Session(region_name='us-east-1')\n",
    "br_agnet_client = session.client(\n",
    "    service_name='bedrock-agent-runtime'\n",
    ")\n",
    "# session_id = str(uuid.uuid4()).split('-')[-1]\n",
    "# print(session_id)\n",
    "\n",
    "agentId = \"MARTXEGJPP\"\n",
    "agentAliasId='ZUGLVYFIQH'\n",
    "sessionId  = \"fitcloud\"         # 임의로 정함\n",
    "prompt = \"token 값은 '0F3916A89EBB7EDAD95C4515A0322EC0'입니다. account id 532805286864의 2023년 9월 자원 사용량은?\"\n"
   ]
  },
  {
   "cell_type": "code",
   "execution_count": 12,
   "metadata": {},
   "outputs": [
    {
     "data": {
      "text/plain": [
       "{'ResponseMetadata': {'RequestId': '5ded5844-6cd1-4730-9d97-4cb0665990ea',\n",
       "  'HTTPStatusCode': 200,\n",
       "  'HTTPHeaders': {'date': 'Fri, 16 Feb 2024 11:49:28 GMT',\n",
       "   'content-type': 'application/json',\n",
       "   'transfer-encoding': 'chunked',\n",
       "   'connection': 'keep-alive',\n",
       "   'x-amzn-requestid': '5ded5844-6cd1-4730-9d97-4cb0665990ea',\n",
       "   'x-amz-bedrock-agent-session-id': 'fitcloud',\n",
       "   'x-amzn-bedrock-agent-content-type': 'application/json'},\n",
       "  'RetryAttempts': 0},\n",
       " 'contentType': 'application/json',\n",
       " 'sessionId': 'fitcloud',\n",
       " 'completion': <botocore.eventstream.EventStream at 0x7f6336fa2ea0>}"
      ]
     },
     "execution_count": 12,
     "metadata": {},
     "output_type": "execute_result"
    }
   ],
   "source": [
    "resp = br_agnet_client.invoke_agent(agentId=agentId,agentAliasId=agentAliasId,sessionId=sessionId, inputText=prompt  )\n",
    "resp"
   ]
  },
  {
   "cell_type": "code",
   "execution_count": 13,
   "metadata": {},
   "outputs": [
    {
     "name": "stdout",
     "output_type": "stream",
     "text": [
      "532805286864 계정의 2023년 9월 자원 사용량은 $213.55291725389998 입니다.\n"
     ]
    }
   ],
   "source": [
    "\n",
    "completion = \"\"\n",
    "for event in resp.get('completion'):\n",
    "    # print(event)\n",
    "    chunk = event['chunk']\n",
    "    completion = completion + chunk['bytes'].decode()\n",
    "print(completion)"
   ]
  },
  {
   "cell_type": "code",
   "execution_count": null,
   "metadata": {},
   "outputs": [],
   "source": []
  }
 ],
 "metadata": {
  "kernelspec": {
   "display_name": "dev",
   "language": "python",
   "name": "python3"
  },
  "language_info": {
   "codemirror_mode": {
    "name": "ipython",
    "version": 3
   },
   "file_extension": ".py",
   "mimetype": "text/x-python",
   "name": "python",
   "nbconvert_exporter": "python",
   "pygments_lexer": "ipython3",
   "version": "3.12.1"
  }
 },
 "nbformat": 4,
 "nbformat_minor": 2
}
