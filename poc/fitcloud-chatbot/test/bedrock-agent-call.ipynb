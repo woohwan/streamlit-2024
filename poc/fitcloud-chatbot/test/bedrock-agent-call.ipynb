{
 "cells": [
  {
   "cell_type": "code",
   "execution_count": 20,
   "metadata": {},
   "outputs": [],
   "source": [
    "import boto3\n",
    "import uuid\n",
    "\n",
    "session = boto3.session.Session(region_name='us-east-1')\n",
    "br_agnet_client = session.client(\n",
    "    service_name='bedrock-agent-runtime'\n",
    ")\n",
    "# session_id = str(uuid.uuid4()).split('-')[-1]\n",
    "# print(session_id)\n",
    "token = '00CCB9DD31EFA9D61967D1F9B33B322C'\n",
    "accountId = '532805286864'\n",
    "\n",
    "\n",
    "agentId = \"MARTXEGJPP\"\n",
    "agentAliasId='UUHTRMUTE6'\n",
    "sessionId  = \"fitcloud\"         # 임의로 정함\n",
    "# prompt = \"token 값은 '00CCB9DD31EFA9D61967D1F9B33B322C'입니다. account id 532805286864의 2023년 9월 자원 사용량은?\"\n",
    "prompt = \"2023년 9월 자원 사용량은?\"\n"
   ]
  },
  {
   "cell_type": "code",
   "execution_count": 21,
   "metadata": {},
   "outputs": [
    {
     "data": {
      "text/plain": [
       "{'ResponseMetadata': {'RequestId': '280d9eda-3caf-4bab-bccb-fcec4bad1502',\n",
       "  'HTTPStatusCode': 200,\n",
       "  'HTTPHeaders': {'date': 'Sat, 17 Feb 2024 08:45:07 GMT',\n",
       "   'content-type': 'application/json',\n",
       "   'transfer-encoding': 'chunked',\n",
       "   'connection': 'keep-alive',\n",
       "   'x-amzn-requestid': '280d9eda-3caf-4bab-bccb-fcec4bad1502',\n",
       "   'x-amz-bedrock-agent-session-id': 'fitcloud',\n",
       "   'x-amzn-bedrock-agent-content-type': 'application/json'},\n",
       "  'RetryAttempts': 0},\n",
       " 'contentType': 'application/json',\n",
       " 'sessionId': 'fitcloud',\n",
       " 'completion': <botocore.eventstream.EventStream at 0x7f87a2a53cb0>}"
      ]
     },
     "execution_count": 21,
     "metadata": {},
     "output_type": "execute_result"
    }
   ],
   "source": [
    "resp = br_agnet_client.invoke_agent(\n",
    "    sessionState = {\n",
    "        'sessionAttributes': {\n",
    "            \"token\": token,\n",
    "            \"accountId\": accountId,\n",
    "        },\n",
    "    },\n",
    "    agentId=agentId,\n",
    "    agentAliasId=agentAliasId,\n",
    "    sessionId=sessionId, \n",
    "    inputText=prompt  )\n",
    "resp"
   ]
  },
  {
   "cell_type": "code",
   "execution_count": 22,
   "metadata": {},
   "outputs": [
    {
     "name": "stdout",
     "output_type": "stream",
     "text": [
      "2023년 9월의 자원 사용량은 213.55291725389998달러입니다.\n"
     ]
    }
   ],
   "source": [
    "\n",
    "completion = \"\"\n",
    "for event in resp.get('completion'):\n",
    "    # print(event)\n",
    "    chunk = event['chunk']\n",
    "    completion = completion + chunk['bytes'].decode()\n",
    "print(completion)"
   ]
  },
  {
   "cell_type": "code",
   "execution_count": null,
   "metadata": {},
   "outputs": [],
   "source": []
  }
 ],
 "metadata": {
  "kernelspec": {
   "display_name": "dev",
   "language": "python",
   "name": "python3"
  },
  "language_info": {
   "codemirror_mode": {
    "name": "ipython",
    "version": 3
   },
   "file_extension": ".py",
   "mimetype": "text/x-python",
   "name": "python",
   "nbconvert_exporter": "python",
   "pygments_lexer": "ipython3",
   "version": "3.12.1"
  }
 },
 "nbformat": 4,
 "nbformat_minor": 2
}
