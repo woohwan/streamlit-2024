{
 "cells": [
  {
   "cell_type": "code",
   "execution_count": 17,
   "metadata": {},
   "outputs": [],
   "source": [
    "import boto3\n",
    "import uuid\n",
    "\n",
    "session = boto3.session.Session(region_name='us-east-1')\n",
    "br_agnet_client = session.client(\n",
    "    service_name='bedrock-agent-runtime'\n",
    ")\n",
    "# session_id = str(uuid.uuid4()).split('-')[-1]\n",
    "# print(session_id)\n",
    "\n",
    "agentId = \"MARTXEGJPP\"\n",
    "agentAliasId='ZUGLVYFIQH'\n",
    "sessionId  = \"fitcloud\"         # 임의로 정함\n",
    "prompt = \"token 값은 '0F3916A89EBB7EDAD95C4515A0322EC0'입니다. account id 532805286864의 2023년 9월 자원 사용량은?\"\n"
   ]
  },
  {
   "cell_type": "code",
   "execution_count": 20,
   "metadata": {},
   "outputs": [
    {
     "data": {
      "text/plain": [
       "{'ResponseMetadata': {'RequestId': '875ec0ba-8c2a-4e57-81ab-be69f2a49308',\n",
       "  'HTTPStatusCode': 200,\n",
       "  'HTTPHeaders': {'date': 'Fri, 16 Feb 2024 10:23:39 GMT',\n",
       "   'content-type': 'application/json',\n",
       "   'transfer-encoding': 'chunked',\n",
       "   'connection': 'keep-alive',\n",
       "   'x-amzn-requestid': '875ec0ba-8c2a-4e57-81ab-be69f2a49308',\n",
       "   'x-amz-bedrock-agent-session-id': 'fitcloud',\n",
       "   'x-amzn-bedrock-agent-content-type': 'application/json'},\n",
       "  'RetryAttempts': 0},\n",
       " 'contentType': 'application/json',\n",
       " 'sessionId': 'fitcloud',\n",
       " 'completion': <botocore.eventstream.EventStream at 0x7ff0e54b20c0>}"
      ]
     },
     "execution_count": 20,
     "metadata": {},
     "output_type": "execute_result"
    }
   ],
   "source": [
    "resp = br_agnet_client.invoke_agent(agentId=agentId,agentAliasId=agentAliasId,sessionId=sessionId, inputText=prompt  )\n",
    "resp"
   ]
  },
  {
   "cell_type": "code",
   "execution_count": 21,
   "metadata": {},
   "outputs": [
    {
     "name": "stdout",
     "output_type": "stream",
     "text": [
      "{'chunk': {'bytes': b'532805286864 \\xea\\xb3\\x84\\xec\\xa0\\x95\\xec\\x9d\\x98 2023\\xeb\\x85\\x84 9\\xec\\x9b\\x94 \\xec\\x9e\\x90\\xec\\x9b\\x90 \\xec\\x82\\xac\\xec\\x9a\\xa9\\xeb\\x9f\\x89\\xec\\x9d\\x80 $213.55291725389998 \\xec\\x9e\\x85\\xeb\\x8b\\x88\\xeb\\x8b\\xa4.'}}\n"
     ]
    }
   ],
   "source": [
    "for event in resp.get('completion'):\n",
    "    print(event)"
   ]
  },
  {
   "cell_type": "code",
   "execution_count": null,
   "metadata": {},
   "outputs": [],
   "source": []
  }
 ],
 "metadata": {
  "kernelspec": {
   "display_name": "dev",
   "language": "python",
   "name": "python3"
  },
  "language_info": {
   "codemirror_mode": {
    "name": "ipython",
    "version": 3
   },
   "file_extension": ".py",
   "mimetype": "text/x-python",
   "name": "python",
   "nbconvert_exporter": "python",
   "pygments_lexer": "ipython3",
   "version": "3.12.1"
  }
 },
 "nbformat": 4,
 "nbformat_minor": 2
}
